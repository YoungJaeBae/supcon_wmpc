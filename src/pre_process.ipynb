{
 "cells": [
  {
   "cell_type": "markdown",
   "metadata": {},
   "source": [
    "# Data pre-processing for WM-811k and MixedWM38"
   ]
  },
  {
   "cell_type": "markdown",
   "metadata": {},
   "source": [
    "## Import required libraries"
   ]
  },
  {
   "cell_type": "code",
   "execution_count": 1,
   "metadata": {},
   "outputs": [],
   "source": [
    "import pickle\n",
    "import numpy as np\n",
    "import pandas as pd\n",
    "\n",
    "from pathlib import Path\n",
    "from skimage.transform import resize"
   ]
  },
  {
   "cell_type": "markdown",
   "metadata": {},
   "source": [
    "## WM-811k"
   ]
  },
  {
   "cell_type": "code",
   "execution_count": 4,
   "metadata": {},
   "outputs": [],
   "source": [
    "DIM = 64\n",
    "raw_pkl_path = Path(\"../dataset/LSWMD.pkl\")\n",
    "save_path = Path(\"../dataset/WM811k\")\n",
    "\n",
    "if not save_path.exists():\n",
    "    save_path.mkdir()\n"
   ]
  },
  {
   "cell_type": "code",
   "execution_count": 6,
   "metadata": {},
   "outputs": [
    {
     "name": "stderr",
     "output_type": "stream",
     "text": [
      "/opt/conda/lib/python3.7/site-packages/pandas/core/array_algos/replace.py:84: FutureWarning: elementwise comparison failed; returning scalar instead, but in the future will perform elementwise comparison\n",
      "  op = lambda x: operator.eq(x, b)\n"
     ]
    }
   ],
   "source": [
    "df = pd.read_pickle(raw_pkl_path)\n",
    "df = df.drop(['waferIndex', 'trianTestLabel', 'lotName'], axis=1)\n",
    "\n",
    "df['failureNum']=df.failureType\n",
    "mapping_type={'Center':0,'Donut':1,'Edge-Loc':2,'Edge-Ring':3,'Loc':4,'Random':5,'Scratch':6,'Near-full':7,'none':8}\n",
    "df=df.replace({'failureNum':mapping_type})\n",
    "\n",
    "#use labeled wafer maps only\n",
    "df_withlabel = df[(df['failureNum']>=0)]\n",
    "\n",
    "#Drop wafers with die size smaller than 100\n",
    "df_withlabel = df_withlabel.drop(df_withlabel[df_withlabel['dieSize']<100].index.tolist()).reset_index()"
   ]
  },
  {
   "cell_type": "code",
   "execution_count": 7,
   "metadata": {},
   "outputs": [
    {
     "name": "stderr",
     "output_type": "stream",
     "text": [
      "/opt/conda/lib/python3.7/site-packages/ipykernel_launcher.py:5: DeprecationWarning: `np.int` is a deprecated alias for the builtin `int`. To silence this warning, use `int` by itself. Doing this will not modify any behavior and is safe. When replacing `np.int`, you may wish to use e.g. `np.int64` or `np.int32` to specify the precision. If you wish to review your current use, check the release note link for additional information.\n",
      "Deprecated in NumPy 1.20; for more details and guidance: https://numpy.org/devdocs/release/1.20.0-notes.html#deprecations\n",
      "  \"\"\"\n"
     ]
    }
   ],
   "source": [
    "X = df_withlabel.waferMap\n",
    "X_binary = [np.where(x<=1,0,1) for x in X] #binarize the wafers \n",
    "X_resize = np.array([resize(x,(DIM,DIM), order=1 ,preserve_range=True, anti_aliasing=False) for x in X_binary]) #bi-linear interpolation\n",
    "X_resize = (X_resize.reshape(-1,DIM,DIM,1)*255).astype(np.uint8)\n",
    "y = np.array(df_withlabel['failureNum']).astype(np.int)"
   ]
  },
  {
   "cell_type": "code",
   "execution_count": 8,
   "metadata": {},
   "outputs": [
    {
     "name": "stdout",
     "output_type": "stream",
     "text": [
      "0/172946 done\n",
      "1000/172946 done\n",
      "2000/172946 done\n",
      "3000/172946 done\n",
      "4000/172946 done\n",
      "5000/172946 done\n",
      "6000/172946 done\n",
      "7000/172946 done\n",
      "8000/172946 done\n",
      "9000/172946 done\n",
      "10000/172946 done\n",
      "11000/172946 done\n",
      "12000/172946 done\n",
      "13000/172946 done\n",
      "14000/172946 done\n",
      "15000/172946 done\n",
      "16000/172946 done\n",
      "17000/172946 done\n",
      "18000/172946 done\n",
      "19000/172946 done\n",
      "20000/172946 done\n",
      "21000/172946 done\n",
      "22000/172946 done\n",
      "23000/172946 done\n",
      "24000/172946 done\n",
      "25000/172946 done\n",
      "26000/172946 done\n",
      "27000/172946 done\n",
      "28000/172946 done\n",
      "29000/172946 done\n",
      "30000/172946 done\n",
      "31000/172946 done\n",
      "32000/172946 done\n",
      "33000/172946 done\n",
      "34000/172946 done\n",
      "35000/172946 done\n",
      "36000/172946 done\n",
      "37000/172946 done\n",
      "38000/172946 done\n",
      "39000/172946 done\n",
      "40000/172946 done\n",
      "41000/172946 done\n",
      "42000/172946 done\n",
      "43000/172946 done\n",
      "44000/172946 done\n",
      "45000/172946 done\n",
      "46000/172946 done\n",
      "47000/172946 done\n",
      "48000/172946 done\n",
      "49000/172946 done\n",
      "50000/172946 done\n",
      "51000/172946 done\n",
      "52000/172946 done\n",
      "53000/172946 done\n",
      "54000/172946 done\n",
      "55000/172946 done\n",
      "56000/172946 done\n",
      "57000/172946 done\n",
      "58000/172946 done\n",
      "59000/172946 done\n",
      "60000/172946 done\n",
      "61000/172946 done\n",
      "62000/172946 done\n",
      "63000/172946 done\n",
      "64000/172946 done\n",
      "65000/172946 done\n",
      "66000/172946 done\n",
      "67000/172946 done\n",
      "68000/172946 done\n",
      "69000/172946 done\n",
      "70000/172946 done\n",
      "71000/172946 done\n",
      "72000/172946 done\n",
      "73000/172946 done\n",
      "74000/172946 done\n",
      "75000/172946 done\n",
      "76000/172946 done\n",
      "77000/172946 done\n",
      "78000/172946 done\n",
      "79000/172946 done\n",
      "80000/172946 done\n",
      "81000/172946 done\n",
      "82000/172946 done\n",
      "83000/172946 done\n",
      "84000/172946 done\n",
      "85000/172946 done\n",
      "86000/172946 done\n",
      "87000/172946 done\n",
      "88000/172946 done\n",
      "89000/172946 done\n",
      "90000/172946 done\n",
      "91000/172946 done\n",
      "92000/172946 done\n",
      "93000/172946 done\n",
      "94000/172946 done\n",
      "95000/172946 done\n",
      "96000/172946 done\n",
      "97000/172946 done\n",
      "98000/172946 done\n",
      "99000/172946 done\n",
      "100000/172946 done\n",
      "101000/172946 done\n",
      "102000/172946 done\n",
      "103000/172946 done\n",
      "104000/172946 done\n",
      "105000/172946 done\n",
      "106000/172946 done\n",
      "107000/172946 done\n",
      "108000/172946 done\n",
      "109000/172946 done\n",
      "110000/172946 done\n",
      "111000/172946 done\n",
      "112000/172946 done\n",
      "113000/172946 done\n",
      "114000/172946 done\n",
      "115000/172946 done\n",
      "116000/172946 done\n",
      "117000/172946 done\n",
      "118000/172946 done\n",
      "119000/172946 done\n",
      "120000/172946 done\n",
      "121000/172946 done\n",
      "122000/172946 done\n",
      "123000/172946 done\n",
      "124000/172946 done\n",
      "125000/172946 done\n",
      "126000/172946 done\n",
      "127000/172946 done\n",
      "128000/172946 done\n",
      "129000/172946 done\n",
      "130000/172946 done\n",
      "131000/172946 done\n",
      "132000/172946 done\n",
      "133000/172946 done\n",
      "134000/172946 done\n",
      "135000/172946 done\n",
      "136000/172946 done\n",
      "137000/172946 done\n",
      "138000/172946 done\n",
      "139000/172946 done\n",
      "140000/172946 done\n",
      "141000/172946 done\n",
      "142000/172946 done\n",
      "143000/172946 done\n",
      "144000/172946 done\n",
      "145000/172946 done\n",
      "146000/172946 done\n",
      "147000/172946 done\n",
      "148000/172946 done\n",
      "149000/172946 done\n",
      "150000/172946 done\n",
      "151000/172946 done\n",
      "152000/172946 done\n",
      "153000/172946 done\n",
      "154000/172946 done\n",
      "155000/172946 done\n",
      "156000/172946 done\n",
      "157000/172946 done\n",
      "158000/172946 done\n",
      "159000/172946 done\n",
      "160000/172946 done\n",
      "161000/172946 done\n",
      "162000/172946 done\n",
      "163000/172946 done\n",
      "164000/172946 done\n",
      "165000/172946 done\n",
      "166000/172946 done\n",
      "167000/172946 done\n",
      "168000/172946 done\n",
      "169000/172946 done\n",
      "170000/172946 done\n",
      "171000/172946 done\n",
      "172000/172946 done\n"
     ]
    }
   ],
   "source": [
    "\"\"\"\n",
    "save each resized wafer map as numpy array (.npy)\n",
    "\"\"\"\n",
    "\n",
    "labelednpyPath = []\n",
    "labeled_total = X_resize.shape[0]\n",
    "\n",
    "npy_root = save_path/\"wafermaps\"\n",
    "\n",
    "if not npy_root.exists():\n",
    "    npy_root.mkdir()\n",
    "\n",
    "for i in range(labeled_total):\n",
    "\n",
    "    fname = str(df_withlabel['index'][i])\n",
    "    \n",
    "    np.save(npy_root/fname, X_resize[i])\n",
    "    labelednpyPath.append((npy_root/fname).name+'.npy')\n",
    "\n",
    "    if i%1000 ==0:\n",
    "        print('{}/{} done'.format(i, labeled_total))"
   ]
  },
  {
   "cell_type": "code",
   "execution_count": 9,
   "metadata": {},
   "outputs": [],
   "source": [
    "df_withlabel['npyPath'] = labelednpyPath\n",
    "df_withlabel.drop(['index','waferMap','dieSize','failureType'],axis=1,inplace=True)"
   ]
  },
  {
   "cell_type": "code",
   "execution_count": 10,
   "metadata": {},
   "outputs": [],
   "source": [
    "csv_root = save_path\n",
    "df_withlabel.to_csv(save_path/'labeled.csv',index = False)"
   ]
  },
  {
   "cell_type": "code",
   "execution_count": 11,
   "metadata": {},
   "outputs": [],
   "source": [
    "df_withlabel = pd.read_csv('../dataset/WM811k/labeled.csv') # to check"
   ]
  },
  {
   "cell_type": "code",
   "execution_count": 12,
   "metadata": {},
   "outputs": [],
   "source": [
    "\"\"\"\n",
    "test set is comprise of 20% of entire labeled wafer maps\n",
    "\"\"\"\n",
    "\n",
    "df_labeled_validation = df_withlabel.sample(frac = 0.2)\n",
    "df_withlabel.drop(df_labeled_validation.index, axis = 0, inplace = True)\n",
    "df_labeled_validation.to_csv(csv_root/'labeled_validation.csv',index = False)\n",
    "\n",
    "df_withlabel.to_csv(csv_root/'labeled_training.csv', index = False)"
   ]
  },
  {
   "cell_type": "markdown",
   "metadata": {},
   "source": [
    "## MixedWM38\n",
    "Each wafer in MixedWM38 is already has identical size (52 $\\times$ 52) "
   ]
  },
  {
   "cell_type": "code",
   "execution_count": 13,
   "metadata": {},
   "outputs": [],
   "source": [
    "raw_npz_path = Path('../dataset/MixedWM38.npz')\n",
    "\n",
    "save_path = Path('../dataset/MixedWM38')\n",
    "\n",
    "if not save_path.exists():\n",
    "    save_path.mkdir()\n"
   ]
  },
  {
   "cell_type": "code",
   "execution_count": 14,
   "metadata": {},
   "outputs": [],
   "source": [
    "data = np.load(raw_npz_path)"
   ]
  },
  {
   "cell_type": "code",
   "execution_count": 16,
   "metadata": {},
   "outputs": [],
   "source": [
    "waferPaths = []\n",
    "labelPaths = []\n",
    "\n",
    "wafer_npy_root = save_path/'wafermaps'\n",
    "label_npy_root = save_path/'labels'\n",
    "\n",
    "if not wafer_npy_root.exists():\n",
    "    wafer_npy_root.mkdir()\n",
    "\n",
    "if not label_npy_root.exists():\n",
    "    label_npy_root.mkdir()\n",
    "\n",
    "for idx, (wafer, label) in enumerate(zip(data['arr_0'],data['arr_1'])):\n",
    "\n",
    "    fname = str(idx)\n",
    "    \n",
    "    np.save(wafer_npy_root/fname, wafer)\n",
    "    np.save(label_npy_root/fname, label)\n",
    "\n",
    "    waferPaths.append((wafer_npy_root/fname).name+'.npy')\n",
    "    labelPaths.append((label_npy_root/fname).name+'.npy')\n",
    "\n",
    "    if idx%1000 ==0:\n",
    "        print('{}/{} done'.format(i, labeled_total))"
   ]
  },
  {
   "cell_type": "code",
   "execution_count": 19,
   "metadata": {},
   "outputs": [],
   "source": [
    "df = pd.DataFrame({'wafernpyPath':waferPaths,'labelnpyPath':labelPaths})"
   ]
  },
  {
   "cell_type": "code",
   "execution_count": 21,
   "metadata": {},
   "outputs": [
    {
     "data": {
      "text/html": [
       "<div>\n",
       "<style scoped>\n",
       "    .dataframe tbody tr th:only-of-type {\n",
       "        vertical-align: middle;\n",
       "    }\n",
       "\n",
       "    .dataframe tbody tr th {\n",
       "        vertical-align: top;\n",
       "    }\n",
       "\n",
       "    .dataframe thead th {\n",
       "        text-align: right;\n",
       "    }\n",
       "</style>\n",
       "<table border=\"1\" class=\"dataframe\">\n",
       "  <thead>\n",
       "    <tr style=\"text-align: right;\">\n",
       "      <th></th>\n",
       "      <th>wafernpyPath</th>\n",
       "      <th>labelnpyPath</th>\n",
       "    </tr>\n",
       "  </thead>\n",
       "  <tbody>\n",
       "    <tr>\n",
       "      <th>0</th>\n",
       "      <td>0.npy</td>\n",
       "      <td>0.npy</td>\n",
       "    </tr>\n",
       "    <tr>\n",
       "      <th>1</th>\n",
       "      <td>1.npy</td>\n",
       "      <td>1.npy</td>\n",
       "    </tr>\n",
       "    <tr>\n",
       "      <th>2</th>\n",
       "      <td>2.npy</td>\n",
       "      <td>2.npy</td>\n",
       "    </tr>\n",
       "    <tr>\n",
       "      <th>3</th>\n",
       "      <td>3.npy</td>\n",
       "      <td>3.npy</td>\n",
       "    </tr>\n",
       "    <tr>\n",
       "      <th>4</th>\n",
       "      <td>4.npy</td>\n",
       "      <td>4.npy</td>\n",
       "    </tr>\n",
       "  </tbody>\n",
       "</table>\n",
       "</div>"
      ],
      "text/plain": [
       "  wafernpyPath labelnpyPath\n",
       "0        0.npy        0.npy\n",
       "1        1.npy        1.npy\n",
       "2        2.npy        2.npy\n",
       "3        3.npy        3.npy\n",
       "4        4.npy        4.npy"
      ]
     },
     "execution_count": 21,
     "metadata": {},
     "output_type": "execute_result"
    }
   ],
   "source": [
    "df.head()"
   ]
  },
  {
   "cell_type": "code",
   "execution_count": 22,
   "metadata": {},
   "outputs": [],
   "source": [
    "csv_path = save_path/'dataset.csv'\n",
    "df.to_csv(csv_path,index=False)"
   ]
  },
  {
   "cell_type": "code",
   "execution_count": 23,
   "metadata": {},
   "outputs": [],
   "source": [
    "df_validation = df.sample(frac = 0.2)\n",
    "df.drop(df_validation.index, axis = 0, inplace = True)\n",
    "df_validation.to_csv(save_path/'validation.csv',index = False)\n",
    "\n",
    "df.to_csv(save_path/'training.csv', index = False)"
   ]
  }
 ],
 "metadata": {
  "kernelspec": {
   "display_name": "Python 3.7.13 ('base')",
   "language": "python",
   "name": "python3"
  },
  "language_info": {
   "codemirror_mode": {
    "name": "ipython",
    "version": 3
   },
   "file_extension": ".py",
   "mimetype": "text/x-python",
   "name": "python",
   "nbconvert_exporter": "python",
   "pygments_lexer": "ipython3",
   "version": "3.7.13"
  },
  "orig_nbformat": 4,
  "vscode": {
   "interpreter": {
    "hash": "d4d1e4263499bec80672ea0156c357c1ee493ec2b1c70f0acce89fc37c4a6abe"
   }
  }
 },
 "nbformat": 4,
 "nbformat_minor": 2
}
